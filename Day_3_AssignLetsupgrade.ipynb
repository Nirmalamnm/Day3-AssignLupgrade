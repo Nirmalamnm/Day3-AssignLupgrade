{
  "nbformat": 4,
  "nbformat_minor": 0,
  "metadata": {
    "colab": {
      "name": "Day -3 AssignLetsupgrade.ipynb",
      "provenance": [],
      "collapsed_sections": []
    },
    "kernelspec": {
      "name": "python3",
      "display_name": "Python 3"
    }
  },
  "cells": [
    {
      "cell_type": "code",
      "metadata": {
        "id": "czdoGOa1ihAB",
        "colab_type": "code",
        "colab": {}
      },
      "source": [
        ""
      ],
      "execution_count": 0,
      "outputs": []
    },
    {
      "cell_type": "markdown",
      "metadata": {
        "id": "yZymf4qviyUE",
        "colab_type": "text"
      },
      "source": [
        "1"
      ]
    },
    {
      "cell_type": "code",
      "metadata": {
        "id": "fObgE7BDixqW",
        "colab_type": "code",
        "colab": {
          "base_uri": "https://localhost:8080/",
          "height": 82
        },
        "outputId": "d9e78afa-71aa-4016-aeaf-e1b0f85756e1"
      },
      "source": [
        "marks = int(input(\"Enter your marks - \"))\n",
        "\n",
        "print('|--------|')\n",
        "if(marks >= 85):\n",
        "    print(\"|   A    |\")\n",
        "elif (marks>=75 and marks <= 84):\n",
        "    print(\"|   B    |\")\n",
        "elif (marks>=65 and marks <= 74):\n",
        "    print(\"|   C    |\")\n",
        "elif (marks>=55 and marks <= 64):\n",
        "    print(\"|   D    |\")\n",
        "elif (marks>=45 and marks <= 54):\n",
        "    print(\"|   E    |\")\n",
        "else:\n",
        "    print(\"Need imporvement\")\n",
        "    \n",
        "print('|--------|')"
      ],
      "execution_count": 1,
      "outputs": [
        {
          "output_type": "stream",
          "text": [
            "Enter your marks - 80\n",
            "|--------|\n",
            "|   B    |\n",
            "|--------|\n"
          ],
          "name": "stdout"
        }
      ]
    },
    {
      "cell_type": "code",
      "metadata": {
        "id": "SAZ4Nzz6ixxh",
        "colab_type": "code",
        "colab": {}
      },
      "source": [
        ""
      ],
      "execution_count": 0,
      "outputs": []
    },
    {
      "cell_type": "markdown",
      "metadata": {
        "id": "0pZNvoHijMJZ",
        "colab_type": "text"
      },
      "source": [
        "*4*"
      ]
    },
    {
      "cell_type": "code",
      "metadata": {
        "id": "2DjfT4z6jN0x",
        "colab_type": "code",
        "colab": {
          "base_uri": "https://localhost:8080/",
          "height": 147
        },
        "outputId": "3c20de07-8e31-4089-a036-f7154980ca69"
      },
      "source": [
        "n = int(input(\"Enter number of chances you want a user to upload ?\"))\n",
        "\n",
        "\n",
        "l = int(input(\"Enter the min Length ?\"))\n",
        "\n",
        "curent_operation = 0\n",
        "while(curent_operation<n):\n",
        "    curent_operation += 1\n",
        "    \n",
        "    h = int(input(\"Enter ur Height of photo ?\"))\n",
        "    w = int(input(\"Enter ur Width of the photo ?\"))\n",
        "    \n",
        "    if ( h >= l and w >=l):\n",
        "        if(h==w):\n",
        "            print(\"Accepted\")\n",
        "        else:\n",
        "            print(\"Crop it\")\n",
        "    else:\n",
        "        print(\"minimum photo size should be - \", l )"
      ],
      "execution_count": 3,
      "outputs": [
        {
          "output_type": "stream",
          "text": [
            "Enter number of chances you want a user to upload ?2\n",
            "Enter the min Length ?10\n",
            "Enter ur Height of photo ?0\n",
            "Enter ur Width of the photo ?0\n",
            "minimum photo size should be -  10\n",
            "Enter ur Height of photo ?10\n",
            "Enter ur Width of the photo ?20\n",
            "Crop it\n"
          ],
          "name": "stdout"
        }
      ]
    },
    {
      "cell_type": "code",
      "metadata": {
        "id": "nXZLUOB0jN9V",
        "colab_type": "code",
        "colab": {}
      },
      "source": [
        ""
      ],
      "execution_count": 0,
      "outputs": []
    },
    {
      "cell_type": "markdown",
      "metadata": {
        "id": "fildC2qxlC3A",
        "colab_type": "text"
      },
      "source": [
        "2"
      ]
    },
    {
      "cell_type": "code",
      "metadata": {
        "id": "ytJhdiC-ix3S",
        "colab_type": "code",
        "colab": {
          "base_uri": "https://localhost:8080/",
          "height": 66
        },
        "outputId": "118fcb49-50c3-4b0b-f60e-2beef1f17e4b"
      },
      "source": [
        "from random import randint \n",
        "\n",
        "computer_generated_team_india_score = randint(1,250)\n",
        "print(\"Computer Generated Team India Cricket Score - \",computer_generated_team_india_score)\n",
        "\n",
        "while True:\n",
        "    user_input = int(input(\"enter your guess \"))\n",
        "    if(user_input>=1 and user_input<=250):\n",
        "        break\n",
        "    else:\n",
        "        print(\"Reduce your expectation for 20-20 Cricket. Enter your number again\")\n",
        "\n",
        "diffeence = abs(user_input - computer_generated_team_india_score)\n",
        "\n",
        "if ( diffeence <=10 and diffeence >=1):\n",
        "    print(\"Close by, you are True Indian Fan!\")\n",
        "else:\n",
        "    print(\"You don't watch that much! :P\")"
      ],
      "execution_count": 4,
      "outputs": [
        {
          "output_type": "stream",
          "text": [
            "Computer Generated Team India Cricket Score -  98\n",
            "enter your guess 100\n",
            "Close by, you are True Indian Fan!\n"
          ],
          "name": "stdout"
        }
      ]
    },
    {
      "cell_type": "code",
      "metadata": {
        "id": "hsd7P58zix6u",
        "colab_type": "code",
        "colab": {}
      },
      "source": [
        ""
      ],
      "execution_count": 0,
      "outputs": []
    },
    {
      "cell_type": "markdown",
      "metadata": {
        "id": "YRT9ju1dlel8",
        "colab_type": "text"
      },
      "source": [
        "3"
      ]
    },
    {
      "cell_type": "code",
      "metadata": {
        "id": "rIwtQe0Hlcko",
        "colab_type": "code",
        "colab": {
          "base_uri": "https://localhost:8080/",
          "height": 33
        },
        "outputId": "4bbfaa01-4e38-41b1-f36c-338bf685c3ad"
      },
      "source": [
        "file = open(\"assignment5.txt\",'w')\n",
        "\n",
        "file.write(\"I am an Indian\")\n",
        "\n",
        "file.close()\n",
        "file = open(\"assignment5.txt\",'r')\n",
        "\n",
        "print(file.read())\n",
        "\n",
        "file.close()"
      ],
      "execution_count": 5,
      "outputs": [
        {
          "output_type": "stream",
          "text": [
            "I am an Indian\n"
          ],
          "name": "stdout"
        }
      ]
    },
    {
      "cell_type": "code",
      "metadata": {
        "id": "1qYyZ-s4lcre",
        "colab_type": "code",
        "colab": {}
      },
      "source": [
        ""
      ],
      "execution_count": 0,
      "outputs": []
    },
    {
      "cell_type": "code",
      "metadata": {
        "id": "2HIq3p5Mlc15",
        "colab_type": "code",
        "colab": {}
      },
      "source": [
        ""
      ],
      "execution_count": 0,
      "outputs": []
    }
  ]
}